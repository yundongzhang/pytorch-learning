{
 "cells": [
  {
   "cell_type": "code",
   "execution_count": 12,
   "id": "initial_id",
   "metadata": {
    "collapsed": true,
    "ExecuteTime": {
     "end_time": "2023-09-21T06:23:45.662224Z",
     "start_time": "2023-09-21T06:23:45.660082Z"
    }
   },
   "outputs": [],
   "source": [
    "import matplotlib.pyplot as plt\n",
    "import numpy as np\n",
    "import torch\n",
    "from PIL import Image\n",
    "import math\n",
    "from glob import glob\n",
    "from torch.nn import Linear"
   ]
  },
  {
   "cell_type": "code",
   "execution_count": 13,
   "outputs": [
    {
     "data": {
      "text/plain": "tensor([[-0.0486, -0.3186, -1.7907, -0.6634, -1.0060]],\n       grad_fn=<AddmmBackward0>)"
     },
     "execution_count": 13,
     "metadata": {},
     "output_type": "execute_result"
    }
   ],
   "source": [
    "inp = torch.randn(1, 10)\n",
    "myLayer = Linear(in_features=10, out_features=5, bias=True)\n",
    "myLayer(inp)"
   ],
   "metadata": {
    "collapsed": false,
    "ExecuteTime": {
     "end_time": "2023-09-21T06:23:45.666969Z",
     "start_time": "2023-09-21T06:23:45.663208Z"
    }
   },
   "id": "7d1f6e29a815ea11"
  },
  {
   "cell_type": "code",
   "execution_count": 14,
   "outputs": [
    {
     "data": {
      "text/plain": "Parameter containing:\ntensor([[ 0.2069,  0.2340,  0.1736,  0.2935,  0.1787, -0.0943, -0.0173,  0.0796,\n          0.0218,  0.0041],\n        [-0.0384,  0.0196,  0.1586,  0.2672,  0.3071, -0.1449,  0.0734,  0.2289,\n         -0.1221, -0.2597],\n        [ 0.2868, -0.3094,  0.0253,  0.3143,  0.0112,  0.1499, -0.2634, -0.2532,\n         -0.2510,  0.2198],\n        [-0.3141, -0.3058,  0.2646,  0.1236,  0.0582,  0.3111,  0.0239, -0.1031,\n          0.2759, -0.0926],\n        [ 0.2259, -0.2965,  0.0318, -0.0273,  0.0664,  0.1447, -0.0769, -0.0247,\n          0.1217, -0.0304]], requires_grad=True)"
     },
     "execution_count": 14,
     "metadata": {},
     "output_type": "execute_result"
    }
   ],
   "source": [
    "myLayer.weight"
   ],
   "metadata": {
    "collapsed": false,
    "ExecuteTime": {
     "end_time": "2023-09-21T06:23:45.669849Z",
     "start_time": "2023-09-21T06:23:45.666571Z"
    }
   },
   "id": "71991de3c3e3824b"
  },
  {
   "cell_type": "code",
   "execution_count": 15,
   "outputs": [
    {
     "data": {
      "text/plain": "Parameter containing:\ntensor([ 0.0486,  0.0170, -0.0306,  0.2649, -0.1375], requires_grad=True)"
     },
     "execution_count": 15,
     "metadata": {},
     "output_type": "execute_result"
    }
   ],
   "source": [
    "myLayer.bias"
   ],
   "metadata": {
    "collapsed": false,
    "ExecuteTime": {
     "end_time": "2023-09-21T06:25:32.754082Z",
     "start_time": "2023-09-21T06:25:32.749897Z"
    }
   },
   "id": "4b0519c154494a4e"
  },
  {
   "cell_type": "code",
   "execution_count": null,
   "outputs": [],
   "source": [],
   "metadata": {
    "collapsed": false
   },
   "id": "ab11fc1e236d29b9"
  }
 ],
 "metadata": {
  "kernelspec": {
   "display_name": "Python 3",
   "language": "python",
   "name": "python3"
  },
  "language_info": {
   "codemirror_mode": {
    "name": "ipython",
    "version": 2
   },
   "file_extension": ".py",
   "mimetype": "text/x-python",
   "name": "python",
   "nbconvert_exporter": "python",
   "pygments_lexer": "ipython2",
   "version": "2.7.6"
  }
 },
 "nbformat": 4,
 "nbformat_minor": 5
}
